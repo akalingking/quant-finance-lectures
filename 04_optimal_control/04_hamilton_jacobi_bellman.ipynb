{
 "cells": [
  {
   "cell_type": "code",
   "execution_count": 1,
   "id": "2f6c2d70",
   "metadata": {},
   "outputs": [],
   "source": [
    "import numpy as np\n",
    "import autograd as au\n",
    "import scipy as sp\n",
    "import matplotlib.pyplot as plt"
   ]
  },
  {
   "cell_type": "markdown",
   "id": "79965c4b",
   "metadata": {},
   "source": [
    "## 4.1 HJB Equation\n",
    "\n"
   ]
  }
 ],
 "metadata": {
  "kernelspec": {
   "display_name": "Python (hummingbot)",
   "language": "python",
   "name": "hummingbot"
  },
  "language_info": {
   "codemirror_mode": {
    "name": "ipython",
    "version": 3
   },
   "file_extension": ".py",
   "mimetype": "text/x-python",
   "name": "python",
   "nbconvert_exporter": "python",
   "pygments_lexer": "ipython3",
   "version": "3.8.2"
  }
 },
 "nbformat": 4,
 "nbformat_minor": 5
}
