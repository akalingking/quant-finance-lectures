{
 "cells": [
  {
   "cell_type": "code",
   "execution_count": 1,
   "id": "3426c7fa",
   "metadata": {},
   "outputs": [],
   "source": [
    "import numpy as np\n",
    "import matplotlib.pyplot as plt\n",
    "from autograd import grad, jacobian\n",
    "from decimal import Decimal\n",
    "import scipy.optimize as optimize"
   ]
  },
  {
   "cell_type": "markdown",
   "id": "46d0b2cd",
   "metadata": {},
   "source": [
    "## 2. Unconstrained Optimization"
   ]
  },
  {
   "cell_type": "markdown",
   "id": "530156b5",
   "metadata": {},
   "source": [
    "### 2.1 Unconstrained Optimization Problem\n",
    "Unconstrained optimization problem searches the local minimizer $x^*$ of a real valued and smooth (continuously differentiable) objective function $f(x)$ of $n$ decision variables given by $f:\\mathbb{R}^n\\rightarrow\\mathbb{R}$ and is formulated as:\n",
    "\n",
    "\\begin{align}\n",
    "\\min_{x \\in \\mathbb{R}^n} f(x)\n",
    "\\end{align}\n",
    "\n",
    "without restrictions on the decision variables $x$. The process searches for $x^*$ such that $\\forall x$ in the neighborhood of $x^*$, the following is satisfied:\n",
    "\n",
    "\\begin{align}\n",
    "f(x^*) \\leq f(x)\n",
    "\\end{align}\n"
   ]
  },
  {
   "cell_type": "markdown",
   "id": "c484e0af",
   "metadata": {},
   "source": [
    "### 2.2 Smooth Functions\n",
    "**Definition 2.2.1.** A function $f(x)$ is smooth if it is continuously differentiable over a specified domain. In other words, the function has continuous derivatives up to some order between 2 to infinity over a restricted interval $(a,b)$ or $[a,b]$. The following are examples of smooth functions $f(x)=x$, $f(x)=e^x$, $f(x)=\\sin(x)$, etc."
   ]
  },
  {
   "cell_type": "code",
   "execution_count": null,
   "id": "2b98c534",
   "metadata": {},
   "outputs": [],
   "source": []
  },
  {
   "cell_type": "code",
   "execution_count": null,
   "id": "7f73d1e1",
   "metadata": {},
   "outputs": [],
   "source": []
  },
  {
   "cell_type": "markdown",
   "id": "19656991",
   "metadata": {},
   "source": [
    "### Reference\n",
    "\n",
    "[1] [Numerical Optimization]()\n",
    "\n",
    "[2] [Mathematical Finance]()"
   ]
  }
 ],
 "metadata": {
  "kernelspec": {
   "display_name": "Python (hummingbot)",
   "language": "python",
   "name": "hummingbot"
  },
  "language_info": {
   "codemirror_mode": {
    "name": "ipython",
    "version": 3
   },
   "file_extension": ".py",
   "mimetype": "text/x-python",
   "name": "python",
   "nbconvert_exporter": "python",
   "pygments_lexer": "ipython3",
   "version": "3.8.2"
  }
 },
 "nbformat": 4,
 "nbformat_minor": 5
}
