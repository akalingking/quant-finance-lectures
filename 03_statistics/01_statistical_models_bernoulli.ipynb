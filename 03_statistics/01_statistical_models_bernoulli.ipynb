{
 "cells": [
  {
   "cell_type": "code",
   "execution_count": 4,
   "id": "ac27690b",
   "metadata": {},
   "outputs": [],
   "source": [
    "import numpy as np\n",
    "import scipy as sp\n",
    "from scipy.stats import bernoulli\n",
    "import matplotlib.pyplot as plt"
   ]
  },
  {
   "cell_type": "markdown",
   "id": "cc91a143",
   "metadata": {},
   "source": [
    "## Statistical Models: Bernoulli\n",
    "\n",
    "### Bernoulli Distribution\n",
    "\n",
    "**Bernoulli random variables** are used to model random experiments with only two possible outcomes.\n",
    "\n",
    "A **Bernoulli random variable** with parameter $\\mathbf{p}$ is a random variable that takes the value 1 with probability p and the value 0 with probability $\\mathbf{q=(1-p)}$. The Bernoulli distribution is the discrete probability distribution of a Bernoulli random variable. Hence, we can write the Bernoulli **Probability Mass Function** (PMF) as:\n",
    "\n",
    "\\begin{align}\n",
    "f(x)&=\\left\\{\\array{\n",
    "p & |x=1\\\\\n",
    "q=(1-p) & |x=0\n",
    "}\\right. \\\\\n",
    "\\end{align}\n",
    "\n",
    "In many applications of the Bernoulli model with multiple indicator variables, they are independent and identically distributed (i.i.d.), meaning that the indicator variables are mutually independent and that they are all Bernoulli with the same parameter. The probabilities of success and failured do not change and remain the same for all the trials."
   ]
  },
  {
   "cell_type": "markdown",
   "id": "292ce93f",
   "metadata": {},
   "source": [
    "### Bernoulli Distribution\n",
    "Let $X=1$ if event occurs and $X=0$ if event does not occur.\n",
    "In such case, $X$ has a **Bernoulli Distribution**.\n",
    "\n",
    "\\begin{align}\n",
    "P(X=x) = p^x(1-p)^{1-x} \\qquad ,x \\in [0,1]\n",
    "\\end{align}\n",
    "\n",
    "For $x=1$,\n",
    "\n",
    "\\begin{align}\n",
    "P(X=1) &= p^{(1)}(1-p)^{1-1}\\\\\n",
    "P(X=1) &= p(1-p)^{0}\\\\\n",
    "P(X=1) &= p\n",
    "\\end{align}\n",
    "\n",
    "For $x=0$,\n",
    "\\begin{align}\n",
    "P(X=0) &= p^{(0)}(1-p)^{1-0}\\\\\n",
    "P(X=0) &= 1(1-p)^{1}\\\\\n",
    "P(X=0) &= 1-p\n",
    "\\end{align}\n",
    "\n",
    "$\\mu = p$ and $\\sigma^2= (1-p)$\n"
   ]
  },
  {
   "cell_type": "markdown",
   "id": "d4a25bdf",
   "metadata": {},
   "source": [
    "### Expectation\n",
    "\n",
    "\\begin{align}\n",
    "E[X] &= \\sum_{x=0}^{1} x\\cdot p(x)\\\\\n",
    "&= 1(p) + 0(1-p)\\\\\n",
    "&= p\n",
    "\\end{align}"
   ]
  },
  {
   "cell_type": "markdown",
   "id": "776aa4f2",
   "metadata": {},
   "source": [
    "### Variance\n",
    "\\begin{align}\n",
    "Var[X] &= \\mathbf{E[X^2]} - [E[X]]^2\\\\\n",
    "\\\\\n",
    "\\text{where:}\\qquad&\\\\\n",
    "\\mathbf{E[X^2]} &= P(x=1) \\cdot 1^2  + P(X=0)\\cdot 0^2\\\\\n",
    "&= p\\cdot 1^2 + (1-p)\\cdot 0^2 \\\\\n",
    "&= p\\\\\n",
    "\\end{align}\n",
    "\n",
    "We can see that:\n",
    "\\begin{align}\n",
    "E[X^2] &= E[X]\n",
    "\\end{align}\n",
    "\n",
    "Therefore,\n",
    "\\begin{align}\n",
    "Var[X]&=E[X^2] - [E[X]]^2\\\\\n",
    "&=E[X] - [E[X]]^2\\\\\n",
    "&= p - p^2\\\\\n",
    "&= p(1-p)\\\\\n",
    "&= pq\\\\\n",
    "\\end{align}\n"
   ]
  },
  {
   "cell_type": "markdown",
   "id": "deaf7074",
   "metadata": {},
   "source": [
    "### Examples\n",
    "- Coin flip which can yield either head or tail."
   ]
  },
  {
   "cell_type": "code",
   "execution_count": 38,
   "id": "d3edd6d2",
   "metadata": {},
   "outputs": [
    {
     "data": {
      "image/png": "[encoded data removed]",
      "text/plain": [
       "<Figure size 400x300 with 1 Axes>"
      ]
     },
     "metadata": {},
     "output_type": "display_data"
    }
   ],
   "source": [
    "# Set trial runs and probabilities\n",
    "n = 10 # Trials\n",
    "k = 1\n",
    "p = k/2\n",
    "# Generate random samples\n",
    "x = bernoulli.rvs(p, size=n)\n",
    "# Plot the Bernouli Trials\n",
    "fig,ax = plt.subplots(1,1, figsize=(4,3))\n",
    "ax.plot(x, bernoulli.pmf(x, p), \"bo\", ms=8, label=\"Bernoulli PMF\")\n",
    "ax.vlines(x, 0, bernoulli.pmf(x, p), colors=\"b\", lw=5, alpha=0.5)\n",
    "rv = bernoulli(p)\n",
    "ax.vlines(x, 0, rv.pmf(x), colors='k', linestyles='-', lw=1, label='Frozen PMF')\n",
    "ax.legend(loc='best', frameon=False)\n",
    "ax.set_title(\"Coin Toss\")\n",
    "plt.grid(\":\")\n",
    "plt.show()\n",
    "# Test\n",
    "prob = bernoulli.cdf(x, p)\n",
    "assert np.allclose(x, bernoulli.ppf(prob, p))"
   ]
  },
  {
   "cell_type": "markdown",
   "id": "02cc8446",
   "metadata": {},
   "source": [
    "- Rolling a die to get a specific number or not."
   ]
  },
  {
   "cell_type": "code",
   "execution_count": 40,
   "id": "5ca57fe7",
   "metadata": {},
   "outputs": [
    {
     "data": {
      "image/png": "[encoded data removed]",
      "text/plain": [
       "<Figure size 400x300 with 1 Axes>"
      ]
     },
     "metadata": {},
     "output_type": "display_data"
    }
   ],
   "source": [
    "# Set trial runs and probabilities\n",
    "n = 10 # Trials\n",
    "k = 1\n",
    "p = k/6\n",
    "# Generate random samples\n",
    "x = bernoulli.rvs(p, size=n)\n",
    "# Plot the Bernouli Trials\n",
    "fig,ax = plt.subplots(1,1, figsize=(4,3))\n",
    "ax.plot(x, bernoulli.pmf(x, p), \"bo\", ms=8, label=\"Bernoulli PMF\")\n",
    "ax.vlines(x, 0, bernoulli.pmf(x, p), colors=\"b\", lw=5, alpha=0.5)\n",
    "rv = bernoulli(p)\n",
    "ax.vlines(x, 0, rv.pmf(x), colors='k', linestyles='-', lw=1, label='Frozen PMF')\n",
    "ax.legend(loc='best', frameon=False)\n",
    "ax.set_title(\"Dice Roll\")\n",
    "plt.grid(\":\")\n",
    "plt.show()\n",
    "# Test\n",
    "prob = bernoulli.cdf(x, p)\n",
    "assert np.allclose(x, bernoulli.ppf(prob, p))"
   ]
  },
  {
   "cell_type": "markdown",
   "id": "b61984c2",
   "metadata": {},
   "source": [
    "- Checking inbox mail for a particular emal if arrived or not.\n",
    "- Flipping a light switch which can yield either light on or not."
   ]
  },
  {
   "cell_type": "markdown",
   "id": "f105d93c",
   "metadata": {},
   "source": [
    "### Reference\n",
    "\n",
    "[1] [Bernoulli Distribution, wikipedia](https://en.wikipedia.org/wiki/Bernoulli_distribution)"
   ]
  }
 ],
 "metadata": {
  "kernelspec": {
   "display_name": "Python (hummingbot)",
   "language": "python",
   "name": "hummingbot"
  },
  "language_info": {
   "codemirror_mode": {
    "name": "ipython",
    "version": 3
   },
   "file_extension": ".py",
   "mimetype": "text/x-python",
   "name": "python",
   "nbconvert_exporter": "python",
   "pygments_lexer": "ipython3",
   "version": "3.8.2"
  }
 },
 "nbformat": 4,
 "nbformat_minor": 5
}
