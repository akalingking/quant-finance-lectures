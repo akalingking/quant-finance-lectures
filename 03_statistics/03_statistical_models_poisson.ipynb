{
 "cells": [
  {
   "cell_type": "code",
   "execution_count": 2,
   "id": "fdb33fb1",
   "metadata": {},
   "outputs": [],
   "source": [
    "%matplotlib inline\n",
    "import numpy as np\n",
    "from scipy.stats import bernoulli, binom, poisson\n",
    "from scipy.special import factorial\n",
    "import matplotlib.pyplot as plt"
   ]
  },
  {
   "cell_type": "markdown",
   "id": "dd87b502",
   "metadata": {},
   "source": [
    "## Statistical Models: Poisson\n",
    "\n",
    "### Poisson Distribution\n",
    "\n",
    "The **Poisson** Random Variable $RV$ is based on taking the limit of a Binomial distribution with a fixed mean $np$. As we take $n\\rightarrow \\infty$, the distribution converges to a fixed discrete PMF which we parameterize by $\\mathbf{\\lambda=np}$, where $\\lambda$ is the average number of event occurring over a particular time interval. Indeed, we can compute the probability of $\\mathbf{k}$ successes, substitute $\\mathbf{p=\\frac{\\lambda}{n}}$ as we take the limit of $n$ to $\\infty$."
   ]
  },
  {
   "cell_type": "markdown",
   "id": "03fb1724",
   "metadata": {},
   "source": [
    "From the Bernoulli Distribution, let's examine how a random variable can possible occur over a time interval:\n",
    "\n",
    "\\begin{align}\n",
    "P(X=x) &= \\left( \\array{n\\\\x}\\right) p^x (1-p)^{n-x}\\\\\n",
    "\\text{where:}&\\\\\n",
    "n &: \\text{number of trials}\\\\\n",
    "x &: \\text{number of occurrence}\\\\\n",
    "p &: \\text{probability of event occurring}\\\\\n",
    "\\end{align}\n",
    "\n",
    "**Example** Consider a stock price moves up 3 times on average in a 100 minute interval.\n",
    "What is the probability it going up 5 times during the next 100 minutes?\n",
    "\n",
    "\\begin{align}\n",
    "p&=\\frac{\\lambda}{n}\\\\\n",
    "&=\\left[\\frac{3}{100}\\right] = 0.03\\\\\n",
    "P(X=5) &= \\left(\\array{100\\\\5}\\right) 0.03^5 (0.97)^{95}\n",
    "\\end{align}\n",
    "\n",
    "Now approximating the Poisson Distribution PMF from the Bernoulli distribution:\n",
    "\\begin{align}\n",
    "P(X=x) \\approx \\frac{n!}{x!(n-x)!} \\cdot \\left(\\frac{\\lambda}{n}\\right)^x  \\cdot \\left(1-\\frac{\\lambda}{n}\\right)^{n-x}\n",
    "\\end{align}\n",
    "\n",
    "Let the limit of quantity $n$ approach infinity:\n",
    "\n",
    "\\begin{align}\n",
    "\\lim_{n\\rightarrow \\infty}P(X=x) &\\approx \\frac{n!}{x!(n-x)!} \\cdot \\left(\\frac{\\lambda}{n}\\right)^x  \\cdot \\left(1-\\frac{\\lambda}{n}\\right)^{n-x}\\\\\n",
    "&\\approx \\frac{n!}{x!(n-x)!} \\cdot \\left(\\frac{\\lambda^x}{n^x}\\right)  \\cdot \\left(1-\\frac{\\lambda}{n}\\right)^{n-x}\\\\\n",
    "&\\approx \\frac{n!}{x!(n-x)!} \\cdot \\left(\\frac{\\lambda^x}{n^x}\\right)  \\cdot \\left(1-\\frac{\\lambda}{n}\\right)^{n} \\cdot \\left(1-\\frac{\\lambda}{n}\\right)^{-x}\\\\\n",
    "\\end{align}\n",
    "\n",
    "Simplify the factorial\n",
    "\\begin{align}\n",
    "&\\approx \\frac{1}{x!} \\cdot n(n-1)(n-2)\\cdots(n-x+1) \\cdot \\left(\\frac{\\lambda^x}{n^x}\\right)  \\cdot \\left(1-\\frac{\\lambda}{n}\\right)^{n} \\cdot \\left(1-\\frac{\\lambda}{n}\\right)^{-x}\\\\\n",
    "\\end{align}\n",
    "\n",
    "Rearrange the denominator of the first and third term:\n",
    "\\begin{align}\n",
    "&\\approx \\frac{n(n-1)(n-2)\\cdots(n-x+1)}{n^x} \\cdot \\left(\\frac{\\lambda^x}{x!}\\right)  \\cdot \\left(1-\\frac{\\lambda}{n}\\right)^{n} \\cdot \\left(1-\\frac{\\lambda}{n}\\right)^{-x}\\\\\n",
    "&\\approx \\left[\\frac{n}{n} \\frac{(n-1)}{n} \\frac{(n-2)}{n} \\cdots \\frac{(n-x+1)}{n}\\right] \\cdot \\left(\\frac{\\lambda^x}{x!}\\right)  \\cdot \\left(1-\\frac{\\lambda}{n}\\right)^{n} \\cdot \\left(1-\\frac{\\lambda}{n}\\right)^{-x}\\\\\n",
    "&\\approx \\left[1 \\left(1-\\frac{1}{n}\\right) \\left(1-\\frac{2}{n}\\right) \\cdots \\left(1-\\frac{x+1}{n}\\right)\\right] \\cdot \\left(\\frac{\\lambda^x}{x!}\\right)  \\cdot \\left(1-\\frac{\\lambda}{n}\\right)^{n} \\cdot \\left(1-\\frac{\\lambda}{n}\\right)^{-x}\\\\\n",
    "\\end{align}\n",
    "\n",
    "With $n\\rightarrow \\infty$, the fractions in the first term will go to $0$ leaving the first term equal to 1:\n",
    "\\begin{align}\n",
    "&\\approx [1] \\cdot \\left(\\frac{\\lambda^x}{x!}\\right)  \\cdot \\left(1-\\frac{\\lambda}{n}\\right)^{n} \\cdot \\left(1-\\frac{\\lambda}{n}\\right)^{-x}\\\\\n",
    "\\end{align}\n",
    "\n",
    "The $\\left(1-\\frac{\\lambda}{n}\\right)^{n}$ with $n\\rightarrow \\infty$ leads to indeterminate form $1^{\\infty}$ and evaluates to $e^{-\\lambda}$:\n",
    "\\begin{align}\n",
    "&\\approx [1] \\cdot \\left(\\frac{\\lambda^x}{x!}\\right)  \\cdot e^{-\\lambda} \\cdot \\left(1-\\frac{\\lambda}{n}\\right)^{-x}\\\\\n",
    "\\end{align}\n",
    "\n",
    "Again, the term $\\left(1-\\frac{\\lambda}{n}\\right)^{-x}$ with $n\\rightarrow \\infty$, $\\frac{\\lambda}{n}$ will be equal to 0:\n",
    "\\begin{align}\n",
    "&\\approx [1] \\cdot \\left(\\frac{\\lambda^x}{x!}\\right)  \\cdot e^{-\\lambda} \\cdot (1-0)^{-x}\\\\\n",
    "&\\approx [1] \\cdot \\left(\\frac{\\lambda^x}{x!}\\right)  \\cdot e^{-\\lambda} \\cdot [1]\\\\\n",
    "&\\approx \\mathbf{\\frac{\\lambda^x e^{-\\lambda}}{x!}}\\\\\n",
    "\\end{align}"
   ]
  },
  {
   "cell_type": "markdown",
   "id": "110d64a8",
   "metadata": {},
   "source": [
    "Therefore, when data follows binomial distribution with **large** $n$ (number of trials) and **small** $p$ (probability of success), $\\textit{Poisson}(np)$ is a good approximation to $\\textit{Binomial}(n,p)$.\n",
    "\n",
    "Another interpretation of the Poisson random variable is in terms of a random process called the Poisson process. This is defined as a process where events can occur at any time in continuous time, with an average rate given by the parameter $\\lambda$ and satisfying the following conditions:\n",
    "\n",
    "- Events occur independently of each other.\n",
    "\n",
    "- The probability that an event occurs in a given length of time is constant.\n",
    "\n",
    "### Examples\n",
    "- Jumps in price of a particular stock in 100 days.\n",
    "- Trades an investor will make in a day.\n",
    "- Black swan (shock) events in the economy in over a decade.\n",
    "- Blocks mined in the Bitcoin network in a month."
   ]
  }
 ],
 "metadata": {
  "kernelspec": {
   "display_name": "Python (hummingbot)",
   "language": "python",
   "name": "hummingbot"
  },
  "language_info": {
   "codemirror_mode": {
    "name": "ipython",
    "version": 3
   },
   "file_extension": ".py",
   "mimetype": "text/x-python",
   "name": "python",
   "nbconvert_exporter": "python",
   "pygments_lexer": "ipython3",
   "version": "3.8.2"
  }
 },
 "nbformat": 4,
 "nbformat_minor": 5
}
